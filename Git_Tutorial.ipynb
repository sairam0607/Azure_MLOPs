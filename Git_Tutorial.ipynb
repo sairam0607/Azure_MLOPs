{
 "cells": [
  {
   "cell_type": "code",
   "execution_count": 1,
   "id": "b4d09c3c",
   "metadata": {},
   "outputs": [],
   "source": [
    "## Opens the VS Code \n",
    "!code ."
   ]
  },
  {
   "cell_type": "code",
   "execution_count": 2,
   "id": "e5467eba",
   "metadata": {},
   "outputs": [],
   "source": [
    "## Opens the Command Prompt \n",
    "!start"
   ]
  },
  {
   "cell_type": "code",
   "execution_count": 3,
   "id": "a45c7f62",
   "metadata": {},
   "outputs": [],
   "source": [
    "## Opens the windows Explorer \n",
    "!start .."
   ]
  },
  {
   "cell_type": "code",
   "execution_count": 4,
   "id": "f7af40cb",
   "metadata": {},
   "outputs": [],
   "source": [
    "# %%bash \n",
    "\n",
    "# ls -ah"
   ]
  },
  {
   "cell_type": "code",
   "execution_count": null,
   "id": "f4a8a715",
   "metadata": {},
   "outputs": [
    {
     "ename": "SyntaxError",
     "evalue": "invalid syntax (1562667.py, line 3)",
     "output_type": "error",
     "traceback": [
      "\u001b[1;36m  Input \u001b[1;32mIn [5]\u001b[1;36m\u001b[0m\n\u001b[1;33m    git config --global user.email \"srr6795@gmail.com\"\u001b[0m\n\u001b[1;37m        ^\u001b[0m\n\u001b[1;31mSyntaxError\u001b[0m\u001b[1;31m:\u001b[0m invalid syntax\n"
     ]
    }
   ],
   "source": [
    "# Intitial setup for git \n",
    "\n",
    "git config --global user.email \"srr6795@gmail.com\"\n",
    "git config --global user.name \"sairam0607\""
   ]
  },
  {
   "cell_type": "code",
   "execution_count": null,
   "id": "976149ce",
   "metadata": {},
   "outputs": [],
   "source": [
    "# git initializing \n",
    "\n",
    "git init"
   ]
  },
  {
   "cell_type": "code",
   "execution_count": null,
   "id": "61c50df7",
   "metadata": {},
   "outputs": [],
   "source": [
    "git status"
   ]
  },
  {
   "cell_type": "code",
   "execution_count": null,
   "id": "b03448a2",
   "metadata": {},
   "outputs": [],
   "source": [
    "echo \"/.ipynb_checkpoints\" > .gitignore\n",
    "echo \"Git_Tutorial.ipynb\" >> .gitignore\n",
    "echo \"/assets\" >> .gitignore\n",
    "echo \"*.csv\" >> .gitignore   "
   ]
  },
  {
   "cell_type": "code",
   "execution_count": null,
   "id": "4d23f463",
   "metadata": {},
   "outputs": [],
   "source": []
  }
 ],
 "metadata": {
  "kernelspec": {
   "display_name": "Python 3 (ipykernel)",
   "language": "python",
   "name": "python3"
  },
  "language_info": {
   "codemirror_mode": {
    "name": "ipython",
    "version": 3
   },
   "file_extension": ".py",
   "mimetype": "text/x-python",
   "name": "python",
   "nbconvert_exporter": "python",
   "pygments_lexer": "ipython3",
   "version": "3.9.12"
  }
 },
 "nbformat": 4,
 "nbformat_minor": 5
}
