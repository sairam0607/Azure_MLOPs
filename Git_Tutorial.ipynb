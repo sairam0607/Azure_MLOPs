{
 "cells": [
  {
   "cell_type": "code",
   "execution_count": 16,
   "id": "b4d09c3c",
   "metadata": {},
   "outputs": [],
   "source": [
    "## Opens the VS Code \n",
    "!code ."
   ]
  },
  {
   "cell_type": "code",
   "execution_count": 2,
   "id": "e5467eba",
   "metadata": {},
   "outputs": [],
   "source": [
    "## Opens the Command Prompt \n",
    "!start"
   ]
  },
  {
   "cell_type": "code",
   "execution_count": 3,
   "id": "a45c7f62",
   "metadata": {},
   "outputs": [],
   "source": [
    "## Opens the windows Explorer \n",
    "!start .."
   ]
  },
  {
   "cell_type": "code",
   "execution_count": 4,
   "id": "f7af40cb",
   "metadata": {},
   "outputs": [],
   "source": [
    "# %%bash \n",
    "\n",
    "# ls -ah"
   ]
  },
  {
   "cell_type": "code",
   "execution_count": 6,
   "id": "f4a8a715",
   "metadata": {},
   "outputs": [],
   "source": [
    "# Intitial setup for git \n",
    "\n",
    "!git config --global user.email \"srr6795@gmail.com\"\n",
    "!git config --global user.name \"sairam0607\""
   ]
  },
  {
   "cell_type": "code",
   "execution_count": 7,
   "id": "976149ce",
   "metadata": {},
   "outputs": [
    {
     "name": "stdout",
     "output_type": "stream",
     "text": [
      "Reinitialized existing Git repository in C:/Users/qu299cr/OneDrive - EY/Desktop/files/Data Science/Azure MLOPs/.git/\n"
     ]
    }
   ],
   "source": [
    "# git initializing \n",
    "\n",
    "!git init"
   ]
  },
  {
   "cell_type": "code",
   "execution_count": 15,
   "id": "61c50df7",
   "metadata": {},
   "outputs": [
    {
     "name": "stdout",
     "output_type": "stream",
     "text": [
      "On branch master\n",
      "\n",
      "No commits yet\n",
      "\n",
      "Untracked files:\n",
      "  (use \"git add <file>...\" to include in what will be committed)\n",
      "\t.gitignore\n",
      "\t.ipynb_checkpoints/\n",
      "\tGit_Tutorial.ipynb\n",
      "\n",
      "nothing added to commit but untracked files present (use \"git add\" to track)\n"
     ]
    }
   ],
   "source": [
    "!git status"
   ]
  },
  {
   "cell_type": "code",
   "execution_count": null,
   "id": "929f1eb5",
   "metadata": {},
   "outputs": [],
   "source": []
  }
 ],
 "metadata": {
  "kernelspec": {
   "display_name": "Python 3 (ipykernel)",
   "language": "python",
   "name": "python3"
  },
  "language_info": {
   "codemirror_mode": {
    "name": "ipython",
    "version": 3
   },
   "file_extension": ".py",
   "mimetype": "text/x-python",
   "name": "python",
   "nbconvert_exporter": "python",
   "pygments_lexer": "ipython3",
   "version": "3.9.12"
  }
 },
 "nbformat": 4,
 "nbformat_minor": 5
}
