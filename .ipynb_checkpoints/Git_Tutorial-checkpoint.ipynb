{
 "cells": [
  {
   "cell_type": "code",
   "execution_count": 1,
   "id": "b4d09c3c",
   "metadata": {},
   "outputs": [],
   "source": [
    "## Opens the VS Code \n",
    "!code ."
   ]
  },
  {
   "cell_type": "code",
   "execution_count": 2,
   "id": "e5467eba",
   "metadata": {},
   "outputs": [],
   "source": [
    "## Opens the Command Prompt \n",
    "!start"
   ]
  },
  {
   "cell_type": "code",
   "execution_count": 3,
   "id": "a45c7f62",
   "metadata": {},
   "outputs": [],
   "source": [
    "## Opens the windows Explorer \n",
    "!start .."
   ]
  },
  {
   "cell_type": "code",
   "execution_count": 6,
   "id": "f7af40cb",
   "metadata": {},
   "outputs": [],
   "source": [
    "# %%bash \n",
    "\n",
    "# ls -ah"
   ]
  },
  {
   "cell_type": "code",
   "execution_count": null,
   "id": "f4a8a715",
   "metadata": {},
   "outputs": [],
   "source": []
  }
 ],
 "metadata": {
  "kernelspec": {
   "display_name": "Python 3 (ipykernel)",
   "language": "python",
   "name": "python3"
  },
  "language_info": {
   "codemirror_mode": {
    "name": "ipython",
    "version": 3
   },
   "file_extension": ".py",
   "mimetype": "text/x-python",
   "name": "python",
   "nbconvert_exporter": "python",
   "pygments_lexer": "ipython3",
   "version": "3.9.12"
  }
 },
 "nbformat": 4,
 "nbformat_minor": 5
}
